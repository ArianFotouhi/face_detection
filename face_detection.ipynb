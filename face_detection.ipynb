{
 "cells": [
  {
   "cell_type": "markdown",
   "id": "d9d2f2c8",
   "metadata": {},
   "source": [
    "## Loading cascades\n"
   ]
  },
  {
   "cell_type": "code",
   "execution_count": 6,
   "id": "797d634d",
   "metadata": {},
   "outputs": [
    {
     "name": "stdout",
     "output_type": "stream",
     "text": [
      "Collecting opencv-python\n",
      "  Downloading opencv_python-4.6.0.66-cp36-abi3-win_amd64.whl (35.6 MB)\n",
      "Requirement already satisfied: numpy>=1.14.5 in c:\\users\\asus\\miniconda3\\lib\\site-packages (from opencv-python) (1.20.3)\n",
      "Installing collected packages: opencv-python\n",
      "Successfully installed opencv-python-4.6.0.66\n"
     ]
    }
   ],
   "source": [
    "import cv2\n",
    "\n",
    "### cascades are filters to extract features\n",
    "face_cascade = cv2.CascadeClassifier('haarcascade_frontalface_default.xml')\n",
    "eye_cascade = cv2.CascadeClassifier('haarcascade_eye.xml')\n",
    "smile_cascade = cv2.CascadeClassifier('haarcascade_smile.xml')"
   ]
  },
  {
   "cell_type": "markdown",
   "id": "a29e55aa",
   "metadata": {},
   "source": [
    "## Detection function"
   ]
  },
  {
   "cell_type": "code",
   "execution_count": 7,
   "id": "9c3ae467",
   "metadata": {},
   "outputs": [],
   "source": [
    "def detect(gray, frame): #frame is original image, grey is greyscale image\n",
    "    faces = face_cascade.detectMultiScale(gray, 1.3, 5) #1.3 is zoom out rate, 5 min number of neighbor zone to compare\n",
    "    #iteration through different faces\n",
    "    for (x, y, w, h) in faces: #x y are coordinates, h w are size\n",
    "        cv2.rectangle(frame, (x, y), (x+w, y+h), (255,0,0), 2) #255,0,0 are colors\n",
    "        roi_gray = gray[y:y+h,x:x+w] #region of interest\n",
    "        roi_color = frame[y:y+h, x:x+w]\n",
    "        eyes = eye_cascade.detectMultiScale(roi_gray, 1.1, 22) #1.1 and 3 (min no of neighbors) are experimental\n",
    "        smiles = smile_cascade.detectMultiScale(roi_gray, 1.7, 48) \n",
    "        for (ex, ey, ew, eh) in eyes: \n",
    "            cv2.rectangle(roi_color, (ex, ey), (ex+ew, ey+eh), (0,255,0), 2) #(ex, ey), (ex+ew, ey+eh), left and right corner of rectangle of eye\n",
    "            #(0,255,0) rgb code for green (color), also 2 is width of rectangle\n",
    "        for (sx, sy, sw, sh) in smiles: \n",
    "            cv2.rectangle(roi_color, (sx, sy), (sx+sw, sy+sh), (0,0,255), 2) #(ex, ey), (ex+ew, ey+eh), left and right corner of rectangle of eye\n",
    "            #(0,255,0) rgb code for green (color), also 2 is width of rectangle\n",
    "\n",
    "    return frame"
   ]
  },
  {
   "cell_type": "markdown",
   "id": "652ce7c1",
   "metadata": {},
   "source": [
    "## start of face recognition using webcam"
   ]
  },
  {
   "cell_type": "markdown",
   "id": "044d71ee",
   "metadata": {},
   "source": [
    "### press q to quit the camera window"
   ]
  },
  {
   "cell_type": "code",
   "execution_count": 9,
   "id": "7934b20b",
   "metadata": {},
   "outputs": [],
   "source": [
    "video_capture = cv2.VideoCapture(0) #0 means webcam of computer not external one\n",
    "while True:\n",
    "    #first element of video caputure is not used\n",
    "    _, frame = video_capture.read()\n",
    "    gray = cv2.cvtColor(frame, cv2.COLOR_BGR2GRAY)#BGR2GRAY gets average on blue green red for gray\n",
    "    canvas = detect(gray, frame)\n",
    "    cv2.imshow('Video', canvas)\n",
    "    if cv2.waitKey(1) & 0xFF== ord('q'): # press q to quit the camera window\n",
    "        break\n",
    "video_capture.release() #turn off webcam\n",
    "cv2.destroyAllWindows() #close windows"
   ]
  }
 ],
 "metadata": {
  "kernelspec": {
   "display_name": "Python 3 (ipykernel)",
   "language": "python",
   "name": "python3"
  },
  "language_info": {
   "codemirror_mode": {
    "name": "ipython",
    "version": 3
   },
   "file_extension": ".py",
   "mimetype": "text/x-python",
   "name": "python",
   "nbconvert_exporter": "python",
   "pygments_lexer": "ipython3",
   "version": "3.9.5"
  }
 },
 "nbformat": 4,
 "nbformat_minor": 5
}
